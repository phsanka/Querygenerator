import os
import openai

openai.api_key = os.getenv("OPENAI_API_KEY")

# POST /v1/completions

response = openai.Completion.create(
  model="davinci-instruct-beta",
  prompt="\"\"\"\nTable customers, columns = [CustomerId, FirstName, LastName,  State]\nCreate a SQLite query for all customers in Texas named Jane\n\"\"\"\n\n\n",
  temperature=0,
  max_tokens=256,
  top_p=1,
  frequency_penalty=0,
  presence_penalty=0
)
